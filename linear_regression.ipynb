{
 "cells": [
  {
   "cell_type": "code",
   "execution_count": 114,
   "metadata": {},
   "outputs": [],
   "source": [
    "import pandas as pd\n",
    "from FileManager import FileManager\n",
    "import matplotlib.pyplot as plt\n",
    "from sklearn.model_selection import train_test_split\n",
    "from sklearn.preprocessing import MinMaxScaler, StandardScaler\n",
    "from sklearn.pipeline import make_pipeline\n",
    "from sklearn.inspection import permutation_importance\n",
    "from sklearn import linear_model\n",
    "import numpy as np\n",
    "from matplotlib import pyplot"
   ]
  },
  {
   "cell_type": "code",
   "execution_count": 115,
   "metadata": {},
   "outputs": [],
   "source": [
    "fileManager = FileManager()"
   ]
  },
  {
   "cell_type": "code",
   "execution_count": 116,
   "metadata": {},
   "outputs": [],
   "source": [
    "df = pd.read_csv(fileManager._get_path_global_csv_file()).set_index(\"id_micro\")\n",
    "#column_X = [\"f_2\", \"f_3\", \"M1,1\"]#, \"M1,2\", \"M1,3\", \"M1,4\", \"M1,5\", \"M1,6\", \"M2,2\", \"M2,3\", \"M2,4\", \"M2,5\", \"M2,6\", \"M3,3\", \"M3,4\", \"M3,5\", \"M3,6\", \"M4,4\", \"M4,5\", \"M4,6\", \"M5,5\", \"M5,6\", \"M6,6\"]\n",
    "#column_X = [\"M1,1\"] #around 0.6\n",
    "#column_X = [\"f_2\", \"f_3\"]\n",
    "#column_X = [\"f_2\", \"f_3\", \"M1,1\"] #around 0.7\n",
    "#column_X = [\"f_2\", \"f_3\", \"M1,1\", \"M2,2\", \"M3,3\", \"M4,4\", \"M5,5\", \"M6,6\"] #above 0.7\n",
    "column_X = [\"M1,1\", \"M1,2\", \"M1,3\", \"M1,4\", \"M1,5\", \"M1,6\", \"M2,2\", \"M2,3\", \"M2,4\", \"M2,5\", \"M2,6\", \"M3,3\", \"M3,4\", \"M3,5\", \"M3,6\", \"M4,4\", \"M4,5\", \"M4,6\", \"M5,5\", \"M5,6\", \"M6,6\", \"f_2\", \"f_3\"] # above 0.8\n",
    "column_Y = [\"last_sigma\"]\n",
    "X = df[column_X]\n",
    "y = df[column_Y]"
   ]
  },
  {
   "cell_type": "code",
   "execution_count": 117,
   "metadata": {},
   "outputs": [],
   "source": [
    "train, test = train_test_split(df, test_size=0.2)\n",
    "X_train, X_val = train[column_X], test[column_X]\n",
    "y_train, y_val = train[column_Y], test[column_Y]\n",
    "std_scaler = StandardScaler()\n",
    "y_train_scaled = std_scaler.fit_transform(y_train)\n",
    "y_val_scaled = std_scaler.transform(y_val)"
   ]
  },
  {
   "cell_type": "code",
   "execution_count": 118,
   "metadata": {},
   "outputs": [
    {
     "data": {
      "text/html": [
       "<style>#sk-container-id-10 {color: black;background-color: white;}#sk-container-id-10 pre{padding: 0;}#sk-container-id-10 div.sk-toggleable {background-color: white;}#sk-container-id-10 label.sk-toggleable__label {cursor: pointer;display: block;width: 100%;margin-bottom: 0;padding: 0.3em;box-sizing: border-box;text-align: center;}#sk-container-id-10 label.sk-toggleable__label-arrow:before {content: \"▸\";float: left;margin-right: 0.25em;color: #696969;}#sk-container-id-10 label.sk-toggleable__label-arrow:hover:before {color: black;}#sk-container-id-10 div.sk-estimator:hover label.sk-toggleable__label-arrow:before {color: black;}#sk-container-id-10 div.sk-toggleable__content {max-height: 0;max-width: 0;overflow: hidden;text-align: left;background-color: #f0f8ff;}#sk-container-id-10 div.sk-toggleable__content pre {margin: 0.2em;color: black;border-radius: 0.25em;background-color: #f0f8ff;}#sk-container-id-10 input.sk-toggleable__control:checked~div.sk-toggleable__content {max-height: 200px;max-width: 100%;overflow: auto;}#sk-container-id-10 input.sk-toggleable__control:checked~label.sk-toggleable__label-arrow:before {content: \"▾\";}#sk-container-id-10 div.sk-estimator input.sk-toggleable__control:checked~label.sk-toggleable__label {background-color: #d4ebff;}#sk-container-id-10 div.sk-label input.sk-toggleable__control:checked~label.sk-toggleable__label {background-color: #d4ebff;}#sk-container-id-10 input.sk-hidden--visually {border: 0;clip: rect(1px 1px 1px 1px);clip: rect(1px, 1px, 1px, 1px);height: 1px;margin: -1px;overflow: hidden;padding: 0;position: absolute;width: 1px;}#sk-container-id-10 div.sk-estimator {font-family: monospace;background-color: #f0f8ff;border: 1px dotted black;border-radius: 0.25em;box-sizing: border-box;margin-bottom: 0.5em;}#sk-container-id-10 div.sk-estimator:hover {background-color: #d4ebff;}#sk-container-id-10 div.sk-parallel-item::after {content: \"\";width: 100%;border-bottom: 1px solid gray;flex-grow: 1;}#sk-container-id-10 div.sk-label:hover label.sk-toggleable__label {background-color: #d4ebff;}#sk-container-id-10 div.sk-serial::before {content: \"\";position: absolute;border-left: 1px solid gray;box-sizing: border-box;top: 0;bottom: 0;left: 50%;z-index: 0;}#sk-container-id-10 div.sk-serial {display: flex;flex-direction: column;align-items: center;background-color: white;padding-right: 0.2em;padding-left: 0.2em;position: relative;}#sk-container-id-10 div.sk-item {position: relative;z-index: 1;}#sk-container-id-10 div.sk-parallel {display: flex;align-items: stretch;justify-content: center;background-color: white;position: relative;}#sk-container-id-10 div.sk-item::before, #sk-container-id-10 div.sk-parallel-item::before {content: \"\";position: absolute;border-left: 1px solid gray;box-sizing: border-box;top: 0;bottom: 0;left: 50%;z-index: -1;}#sk-container-id-10 div.sk-parallel-item {display: flex;flex-direction: column;z-index: 1;position: relative;background-color: white;}#sk-container-id-10 div.sk-parallel-item:first-child::after {align-self: flex-end;width: 50%;}#sk-container-id-10 div.sk-parallel-item:last-child::after {align-self: flex-start;width: 50%;}#sk-container-id-10 div.sk-parallel-item:only-child::after {width: 0;}#sk-container-id-10 div.sk-dashed-wrapped {border: 1px dashed gray;margin: 0 0.4em 0.5em 0.4em;box-sizing: border-box;padding-bottom: 0.4em;background-color: white;}#sk-container-id-10 div.sk-label label {font-family: monospace;font-weight: bold;display: inline-block;line-height: 1.2em;}#sk-container-id-10 div.sk-label-container {text-align: center;}#sk-container-id-10 div.sk-container {/* jupyter's `normalize.less` sets `[hidden] { display: none; }` but bootstrap.min.css set `[hidden] { display: none !important; }` so we also need the `!important` here to be able to override the default hidden behavior on the sphinx rendered scikit-learn.org. See: https://github.com/scikit-learn/scikit-learn/issues/21755 */display: inline-block !important;position: relative;}#sk-container-id-10 div.sk-text-repr-fallback {display: none;}</style><div id=\"sk-container-id-10\" class=\"sk-top-container\"><div class=\"sk-text-repr-fallback\"><pre>Pipeline(steps=[(&#x27;standardscaler&#x27;, StandardScaler()),\n",
       "                (&#x27;linearregression&#x27;, LinearRegression())])</pre><b>In a Jupyter environment, please rerun this cell to show the HTML representation or trust the notebook. <br />On GitHub, the HTML representation is unable to render, please try loading this page with nbviewer.org.</b></div><div class=\"sk-container\" hidden><div class=\"sk-item sk-dashed-wrapped\"><div class=\"sk-label-container\"><div class=\"sk-label sk-toggleable\"><input class=\"sk-toggleable__control sk-hidden--visually\" id=\"sk-estimator-id-28\" type=\"checkbox\" ><label for=\"sk-estimator-id-28\" class=\"sk-toggleable__label sk-toggleable__label-arrow\">Pipeline</label><div class=\"sk-toggleable__content\"><pre>Pipeline(steps=[(&#x27;standardscaler&#x27;, StandardScaler()),\n",
       "                (&#x27;linearregression&#x27;, LinearRegression())])</pre></div></div></div><div class=\"sk-serial\"><div class=\"sk-item\"><div class=\"sk-estimator sk-toggleable\"><input class=\"sk-toggleable__control sk-hidden--visually\" id=\"sk-estimator-id-29\" type=\"checkbox\" ><label for=\"sk-estimator-id-29\" class=\"sk-toggleable__label sk-toggleable__label-arrow\">StandardScaler</label><div class=\"sk-toggleable__content\"><pre>StandardScaler()</pre></div></div></div><div class=\"sk-item\"><div class=\"sk-estimator sk-toggleable\"><input class=\"sk-toggleable__control sk-hidden--visually\" id=\"sk-estimator-id-30\" type=\"checkbox\" ><label for=\"sk-estimator-id-30\" class=\"sk-toggleable__label sk-toggleable__label-arrow\">LinearRegression</label><div class=\"sk-toggleable__content\"><pre>LinearRegression()</pre></div></div></div></div></div></div></div>"
      ],
      "text/plain": [
       "Pipeline(steps=[('standardscaler', StandardScaler()),\n",
       "                ('linearregression', LinearRegression())])"
      ]
     },
     "execution_count": 118,
     "metadata": {},
     "output_type": "execute_result"
    }
   ],
   "source": [
    "Reg = make_pipeline(StandardScaler(), linear_model.LinearRegression())\n",
    "Reg.fit(X_train, y_train_scaled.ravel())"
   ]
  },
  {
   "cell_type": "code",
   "execution_count": 119,
   "metadata": {},
   "outputs": [
    {
     "data": {
      "text/plain": [
       "0.8521003522985199"
      ]
     },
     "execution_count": 119,
     "metadata": {},
     "output_type": "execute_result"
    }
   ],
   "source": [
    "Reg.score(X_train, y_train_scaled.ravel())"
   ]
  },
  {
   "cell_type": "code",
   "execution_count": 120,
   "metadata": {},
   "outputs": [
    {
     "data": {
      "text/plain": [
       "0.8434430998023386"
      ]
     },
     "execution_count": 120,
     "metadata": {},
     "output_type": "execute_result"
    }
   ],
   "source": [
    "Reg.score(X_val, y_val_scaled.ravel())"
   ]
  },
  {
   "cell_type": "code",
   "execution_count": 121,
   "metadata": {},
   "outputs": [
    {
     "data": {
      "text/plain": [
       "[<matplotlib.lines.Line2D at 0x7fb5518b1550>]"
      ]
     },
     "execution_count": 121,
     "metadata": {},
     "output_type": "execute_result"
    },
    {
     "data": {
      "image/png": "[encoded data removed]",
      "text/plain": [
       "<Figure size 432x288 with 1 Axes>"
      ]
     },
     "metadata": {
      "needs_background": "light"
     },
     "output_type": "display_data"
    }
   ],
   "source": [
    "y_predict_scaled = Reg.predict(X_val)\n",
    "plt.plot(y_val, std_scaler.inverse_transform(y_predict_scaled.reshape(-1,1)), \".\")\n",
    "plt.plot(y,y)"
   ]
  },
  {
   "cell_type": "code",
   "execution_count": 185,
   "metadata": {},
   "outputs": [],
   "source": [
    "importance = np.asarray(Reg[1].coef_)"
   ]
  },
  {
   "cell_type": "code",
   "execution_count": 192,
   "metadata": {},
   "outputs": [
    {
     "data": {
      "text/plain": [
       "array([-9.87824592e-01,  6.29807440e-01,  8.75592733e-01,  2.12032429e+00,\n",
       "       -3.00015592e+00,  4.48110601e-01,  3.41020532e-02, -9.89721035e-03,\n",
       "        1.97151801e-03,  1.97553643e+00, -1.44972020e-02,  2.24515042e-01,\n",
       "       -1.94005861e-02,  1.63769027e-01, -1.95402337e+00,  2.77082118e-02,\n",
       "        2.85744510e-02, -2.42340337e-01, -2.00677048e-01, -1.49524727e-02,\n",
       "       -1.35780299e+00,  7.18597204e-02, -4.97421629e-01])"
      ]
     },
     "execution_count": 192,
     "metadata": {},
     "output_type": "execute_result"
    }
   ],
   "source": [
    "importance"
   ]
  },
  {
   "cell_type": "code",
   "execution_count": 198,
   "metadata": {},
   "outputs": [],
   "source": [
    "labels_bar_plot = [column_X[i][1:] for i in range(len(column_X)-2)] + column_X[-2:]"
   ]
  },
  {
   "cell_type": "code",
   "execution_count": 201,
   "metadata": {},
   "outputs": [
    {
     "ename": "ModuleNotFoundError",
     "evalue": "No module named 'tkinter'",
     "output_type": "error",
     "traceback": [
      "\u001b[0;31m---------------------------------------------------------------------------\u001b[0m",
      "\u001b[0;31mModuleNotFoundError\u001b[0m                       Traceback (most recent call last)",
      "\u001b[1;32m/home/vludvig/nas/stage/python/clustering_v1/linear_regression.ipynb Cell 12\u001b[0m in \u001b[0;36m<cell line: 1>\u001b[0;34m()\u001b[0m\n\u001b[0;32m----> <a href='vscode-notebook-cell:/home/vludvig/nas/stage/python/clustering_v1/linear_regression.ipynb#X12sZmlsZQ%3D%3D?line=0'>1</a>\u001b[0m \u001b[39mfrom\u001b[39;00m \u001b[39mturtle\u001b[39;00m \u001b[39mimport\u001b[39;00m color\n\u001b[1;32m      <a href='vscode-notebook-cell:/home/vludvig/nas/stage/python/clustering_v1/linear_regression.ipynb#X12sZmlsZQ%3D%3D?line=3'>4</a>\u001b[0m fig, ax \u001b[39m=\u001b[39m plt\u001b[39m.\u001b[39msubplots(figsize\u001b[39m=\u001b[39m(\u001b[39m20\u001b[39m,\u001b[39m20\u001b[39m))\n\u001b[1;32m      <a href='vscode-notebook-cell:/home/vludvig/nas/stage/python/clustering_v1/linear_regression.ipynb#X12sZmlsZQ%3D%3D?line=4'>5</a>\u001b[0m plt\u001b[39m.\u001b[39mbar(labels_bar_plot, importance)\n",
      "File \u001b[0;32m/usr/lib/python3.8/turtle.py:107\u001b[0m, in \u001b[0;36m<module>\u001b[0;34m\u001b[0m\n\u001b[1;32m    103\u001b[0m _ver \u001b[39m=\u001b[39m \u001b[39m\"\u001b[39m\u001b[39mturtle 1.1b- - for Python 3.1   -  4. 5. 2009\u001b[39m\u001b[39m\"\u001b[39m\n\u001b[1;32m    105\u001b[0m \u001b[39m# print(_ver)\u001b[39;00m\n\u001b[0;32m--> 107\u001b[0m \u001b[39mimport\u001b[39;00m \u001b[39mtkinter\u001b[39;00m \u001b[39mas\u001b[39;00m \u001b[39mTK\u001b[39;00m\n\u001b[1;32m    108\u001b[0m \u001b[39mimport\u001b[39;00m \u001b[39mtypes\u001b[39;00m\n\u001b[1;32m    109\u001b[0m \u001b[39mimport\u001b[39;00m \u001b[39mmath\u001b[39;00m\n",
      "\u001b[0;31mModuleNotFoundError\u001b[0m: No module named 'tkinter'"
     ]
    }
   ],
   "source": [
    "from turtle import color\n",
    "\n",
    "\n",
    "fig, ax = plt.subplots(figsize=(20,20))\n",
    "plt.bar(labels_bar_plot, importance)\n",
    "ax.tick_params(axis=\"both\", labelsize=22)\n",
    "fig.savefig(\"/home/vludvig/nas/stage/python/clustering_v1/experiments/experiment2/images/linear_regression_coefficient\")\n",
    "plt.xticks(rotation = 45)"
   ]
  },
  {
   "cell_type": "code",
   "execution_count": 124,
   "metadata": {},
   "outputs": [
    {
     "data": {
      "text/plain": [
       "array([-9.87824592e-01,  6.29807440e-01,  8.75592733e-01,  2.12032429e+00,\n",
       "       -3.00015592e+00,  4.48110601e-01,  3.41020532e-02, -9.89721035e-03,\n",
       "        1.97151801e-03,  1.97553643e+00, -1.44972020e-02,  2.24515042e-01,\n",
       "       -1.94005861e-02,  1.63769027e-01, -1.95402337e+00,  2.77082118e-02,\n",
       "        2.85744510e-02, -2.42340337e-01, -2.00677048e-01, -1.49524727e-02,\n",
       "       -1.35780299e+00,  7.18597204e-02, -4.97421629e-01])"
      ]
     },
     "execution_count": 124,
     "metadata": {},
     "output_type": "execute_result"
    }
   ],
   "source": [
    "importance"
   ]
  },
  {
   "cell_type": "code",
   "execution_count": 178,
   "metadata": {},
   "outputs": [
    {
     "data": {
      "image/png": "[encoded data removed]",
      "text/plain": [
       "<Figure size 720x720 with 1 Axes>"
      ]
     },
     "metadata": {
      "needs_background": "light"
     },
     "output_type": "display_data"
    }
   ],
   "source": [
    "import re\n",
    "matrix = np.zeros((6,6))\n",
    "for m in range (len(column_X)-2):\n",
    "    i = int(column_X[m][1])\n",
    "    j = int(column_X[m][3])\n",
    "    matrix[i-1,j-1] = abs(importance[m])\n",
    "matrix += np.transpose(matrix)\n",
    "fig, ax = plt.subplots(figsize=(10, 10))\n",
    "ax.matshow(matrix, cmap=plt.cm.Reds)\n",
    "ax.set_xticks(np.arange(6))\n",
    "ax.set_xticklabels(np.arange(1,7))\n",
    "ax.set_yticks(np.arange(6))\n",
    "ax.set_yticklabels(np.arange(1,7))\n",
    "ax.tick_params(axis=\"both\", labelsize=15)\n",
    "fig.savefig(\"/home/vludvig/nas/stage/python/clustering_v1/experiments/experiment2/images/linear_regression_matrix.png\")\n",
    "#plt.title(\"Elasticity matrix linear regression\")"
   ]
  },
  {
   "cell_type": "code",
   "execution_count": 125,
   "metadata": {},
   "outputs": [
    {
     "data": {
      "text/plain": [
       "Text(0.5, 1.0, 'Importance of features on the validation set')"
      ]
     },
     "execution_count": 125,
     "metadata": {},
     "output_type": "execute_result"
    },
    {
     "data": {
      "image/png": "[encoded data removed]",
      "text/plain": [
       "<Figure size 432x288 with 1 Axes>"
      ]
     },
     "metadata": {
      "needs_background": "light"
     },
     "output_type": "display_data"
    }
   ],
   "source": [
    "r_train = permutation_importance(Reg, X_val, y_val_scaled, n_repeats=100)\n",
    "features = np.array(column_X)\n",
    "sorted_idx_train = r_train.importances_mean.argsort()\n",
    "plt.barh(features[sorted_idx_train], r_train.importances_mean[sorted_idx_train], color=\"gray\")\n",
    "plt.xlabel(\"Permutation Importance\")\n",
    "plt.title(\"Importance of features on the validation set\")"
   ]
  }
 ],
 "metadata": {
  "kernelspec": {
   "display_name": "Python 3.8.10 64-bit",
   "language": "python",
   "name": "python3"
  },
  "language_info": {
   "codemirror_mode": {
    "name": "ipython",
    "version": 3
   },
   "file_extension": ".py",
   "mimetype": "text/x-python",
   "name": "python",
   "nbconvert_exporter": "python",
   "pygments_lexer": "ipython3",
   "version": "3.8.10"
  },
  "orig_nbformat": 4,
  "vscode": {
   "interpreter": {
    "hash": "916dbcbb3f70747c44a77c7bcd40155683ae19c65e1c03b4aa3499c5328201f1"
   }
  }
 },
 "nbformat": 4,
 "nbformat_minor": 2
}
